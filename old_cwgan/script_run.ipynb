{
 "cells": [
  {
   "cell_type": "code",
   "execution_count": 1,
   "id": "6dcfa542",
   "metadata": {},
   "outputs": [],
   "source": [
    "import torch"
   ]
  },
  {
   "cell_type": "code",
   "execution_count": 13,
   "id": "f5c45f34",
   "metadata": {},
   "outputs": [],
   "source": [
    "'''TRAINING INITIALIZATION'''\n",
    "\n",
    "data_directory = 'dataset/00resized_images'\n",
    "saved_image_directory = 'dataset/00resized_images/saved_images'\n",
    "saved_model_directory = 'saved_models'\n",
    "\n",
    "n_epochs = 100\n",
    "z_dim = 64\n",
    "n_classes = 4\n",
    "display_step = 50\n",
    "batch_size = 128\n",
    "lr = 0.0002\n",
    "beta_1 = 0.5\n",
    "beta_2 = 0.999\n",
    "c_lambda = 10\n",
    "crit_repeats = 5\n",
    "# device = 'cuda:0' if torch.cuda.is_available() else 'cpu'\n",
    "device = 'cpu'\n",
    "num_workers = 2"
   ]
  },
  {
   "cell_type": "code",
   "execution_count": 14,
   "id": "c621893e",
   "metadata": {},
   "outputs": [
    {
     "name": "stdout",
     "output_type": "stream",
     "text": [
      "Directory exists.\n",
      "  0%|                                                     | 0/1 [00:00<?, ?it/s]\n",
      "Traceback (most recent call last):\n",
      "  File \"/home/mahera/Desktop/All GAN archis/new cWGAN/train.py\", line 221, in <module>\n",
      "    main()\n",
      "  File \"/home/mahera/Desktop/All GAN archis/new cWGAN/train.py\", line 217, in main\n",
      "    gen_loss_lost, dis_loss_list = gan.train(n_epochs, saved_image_dir, saved_model_dir, display_step, c_lambda, crit_repeats)\n",
      "                                   ^^^^^^^^^^^^^^^^^^^^^^^^^^^^^^^^^^^^^^^^^^^^^^^^^^^^^^^^^^^^^^^^^^^^^^^^^^^^^^^^^^^^^^^^^^^\n",
      "  File \"/home/mahera/Desktop/All GAN archis/new cWGAN/train.py\", line 89, in train\n",
      "    real = real.to(device)\n",
      "           ^^^^^^^^^^^^^^^\n",
      "  File \"/home/mahera/anaconda3/lib/python3.11/site-packages/torch/cuda/__init__.py\", line 247, in _lazy_init\n",
      "    torch._C._cuda_init()\n",
      "RuntimeError: Found no NVIDIA driver on your system. Please check that you have an NVIDIA GPU and installed a driver from http://www.nvidia.com/Download/index.aspx\n"
     ]
    }
   ],
   "source": [
    "!python train.py --data_directory=$data_directory --saved_image_directory=$saved_image_directory --saved_model_directory=$saved_model_directory --n_epochs=$n_epochs --z_dim=$z_dim --n_classes=$n_classes --display_step=$display_step --batch_size=$batch_size --lr=$lr --beta_1=$beta_1 --beta_2=$beta_2 --c_lambda=$c_lambda --crit_repeats=$crit_repeats --device=$device --num_workers=$num_workers"
   ]
  }
 ],
 "metadata": {
  "kernelspec": {
   "display_name": "Python 3 (ipykernel)",
   "language": "python",
   "name": "python3"
  },
  "language_info": {
   "codemirror_mode": {
    "name": "ipython",
    "version": 3
   },
   "file_extension": ".py",
   "mimetype": "text/x-python",
   "name": "python",
   "nbconvert_exporter": "python",
   "pygments_lexer": "ipython3",
   "version": "3.11.5"
  }
 },
 "nbformat": 4,
 "nbformat_minor": 5
}
